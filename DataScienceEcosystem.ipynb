{
 "cells": [
  {
   "cell_type": "markdown",
   "id": "3e8bc2e1-f266-474d-bb3d-8cc4ad279670",
   "metadata": {},
   "source": [
    "# Data Science Tools and Ecosystem"
   ]
  },
  {
   "cell_type": "markdown",
   "id": "836b40f3-1548-421f-9e71-6167a219196d",
   "metadata": {},
   "source": [
    "In this notebook, Data Science Tools and Ecosystem are summarized."
   ]
  },
  {
   "cell_type": "markdown",
   "id": "17fde534-f8b8-49b2-96f2-32de467a39af",
   "metadata": {},
   "source": [
    "__Objectives:__\n",
    "- List popular languages for Data Science\n",
    "- List commonly used libraries for Data Science\n",
    "- Provide examples of how arithmetic expressions are evaluated in Python"
   ]
  },
  {
   "cell_type": "markdown",
   "id": "ad497443-f2ab-4dbb-b10e-4181f3d404a4",
   "metadata": {
    "tags": []
   },
   "source": [
    "## Author\n",
    "Brittany Singleton"
   ]
  },
  {
   "cell_type": "markdown",
   "id": "0ff29c35-680d-43c6-8887-6e3d024c55d9",
   "metadata": {},
   "source": [
    "Some of the popular languages that Data Scientists use are:\n",
    "1. Python\n",
    "1. SQL\n",
    "1. R"
   ]
  },
  {
   "cell_type": "markdown",
   "id": "67f34217-71fd-48e2-b7ff-de5a8b2198cd",
   "metadata": {},
   "source": [
    "Some of the commonly used libraries used by Data Scientists include:\n",
    "1. Pandas\n",
    "1. Numpy\n",
    "1. PyTorch"
   ]
  },
  {
   "cell_type": "markdown",
   "id": "fde07961-3676-4933-8d6b-ba57121d5858",
   "metadata": {},
   "source": [
    "| Data Science Tools |\n",
    "|--------------------|\n",
    "| RStudio |\n",
    "|Jupyter Notebook |\n",
    "|Watson Studio |"
   ]
  },
  {
   "cell_type": "markdown",
   "id": "b6b35e4e-6644-47bb-ad9f-2472d35b5de6",
   "metadata": {},
   "source": [
    "### Below are a few examples of evaluating arithmetic expressions in Python"
   ]
  },
  {
   "cell_type": "code",
   "execution_count": 4,
   "id": "95e32e07-1517-4fff-b25f-82ae22406fd6",
   "metadata": {
    "tags": []
   },
   "outputs": [
    {
     "data": {
      "text/plain": [
       "17"
      ]
     },
     "execution_count": 4,
     "metadata": {},
     "output_type": "execute_result"
    }
   ],
   "source": [
    "# This a simple arithmetic expression to mutiply then add integers\n",
    "(3*4)+5"
   ]
  },
  {
   "cell_type": "code",
   "execution_count": 4,
   "id": "cff3c330-45b8-4adb-801e-482c5495ec52",
   "metadata": {
    "tags": []
   },
   "outputs": [
    {
     "data": {
      "text/plain": [
       "3"
      ]
     },
     "execution_count": 4,
     "metadata": {},
     "output_type": "execute_result"
    }
   ],
   "source": [
    "# This will convert 200 minutes to hours by diving by 60\n",
    "200//60"
   ]
  },
  {
   "cell_type": "code",
   "execution_count": null,
   "id": "0092db1a-2552-4682-9c6a-512196255999",
   "metadata": {},
   "outputs": [],
   "source": []
  }
 ],
 "metadata": {
  "kernelspec": {
   "display_name": "Python",
   "language": "python",
   "name": "conda-env-python-py"
  },
  "language_info": {
   "codemirror_mode": {
    "name": "ipython",
    "version": 3
   },
   "file_extension": ".py",
   "mimetype": "text/x-python",
   "name": "python",
   "nbconvert_exporter": "python",
   "pygments_lexer": "ipython3",
   "version": "3.7.12"
  }
 },
 "nbformat": 4,
 "nbformat_minor": 5
}
